{
 "cells": [
  {
   "cell_type": "markdown",
   "metadata": {},
   "source": [
    "# Cone beam with 2 detectors: longitudinal + transversal"
   ]
  },
  {
   "cell_type": "markdown",
   "metadata": {},
   "source": [
    "-----------------------------------------------------------------------------------------------------------------------\n",
    "\n",
    "<u>*The material provided in this notebook can be freely used and modified for educational purposes only. Please cite any content of the notebook as follows:*</u>\n",
    "\n",
    "- *Panetta D, Camarlinghi N. 3D Image Reconstruction for CT and PET : A Practical Guide with Python. CRC Press; 2020. Available from: https://www.taylorfrancis.com/books/9780429270239*\n",
    "\n",
    "*For questions, notifications of bugs, or even just for feedback, please contact the authors directly (daniele.panetta@ifc.cnr.it; niccolo.camarlinghi@gmail.com)*\n",
    "\n",
    "-----------------------------------------------------------------------------------------------------------------------"
   ]
  },
  {
   "cell_type": "code",
   "execution_count": null,
   "metadata": {},
   "outputs": [],
   "source": [
    "import sys\n",
    "import numpy as np\n",
    "import os\n",
    "sys.path.append(\"../\") # this to be able to include all the object contained in the modules\n",
    "from Misc.Utils import Unpickle,ReadImage,DownscaleImage, OutputFileName\n",
    "from Misc.Preview import Visualize3dImage\n",
    "import matplotlib.pyplot as plt\n",
    "# set the default size of all the plots 5x5 inches\n",
    "plt.rcParams['figure.figsize'] = [5, 5]\n",
    "from Algorithms.SinogramGenerator_3D_long_transv import SinogramGenerator_3D\n",
    "from Algorithms.FBP import FBP\n",
    "from Geometry.ExperimentalSetupCT_3D_long_transv import ExperimentalSetupCT_3D, Mode, DetectorShape\n",
    "from Algorithms.MLEM import MLEM\n",
    "from Misc.DataTypes import voxel_dtype\n"
   ]
  },
  {
   "cell_type": "markdown",
   "metadata": {},
   "source": [
    "### Create a CT experimental setup"
   ]
  },
  {
   "cell_type": "markdown",
   "metadata": {},
   "source": [
    "In this case the value of the ```mode``` member of ```my_experimental_setup``` must be set to ```Mode.CONEBEAM```. The chosen detector shape for this example is ```DetectorShape.PLANAR```.\n",
    "SDD and SAD denote the source-to-detector and source-to-axis distances, respectively. The ```fan_angle_deg```represents the angle of emission of photons. \n",
    "\n",
    "The actual size of the detector row is a derived parameter, calculated on top of ```pixels_per_slice_nb``` and ```fan_angle_deg``` as ```2*sdd*tan(fan_angle/2)```. \n",
    "\n",
    "The relationship between number of voxels, voxel size and volume size is the same as in the previous examples."
   ]
  },
  {
   "cell_type": "code",
   "execution_count": null,
   "metadata": {},
   "outputs": [],
   "source": [
    "# create CT experimental setup\n",
    "my_experimental_setup = ExperimentalSetupCT_3D()\n",
    "my_experimental_setup.mode = Mode.CONEBEAM\n",
    "my_experimental_setup._detector_number = 2\n",
    "# detector \n",
    "my_experimental_setup.pixels_per_slice_nb=100\n",
    "my_experimental_setup.detector_slice_nb=100\n",
    "my_experimental_setup.slice_pitch_mm=3\n",
    "my_experimental_setup.detector_shape=DetectorShape.PLANAR\n",
    "# number of rotation of the gantry\n",
    "my_experimental_setup.gantry_angles_nb = 8\n",
    "# range of the rotation\n",
    "my_experimental_setup.angular_range_deg = 360\n",
    "# fov size in mm \n",
    "my_experimental_setup.image_matrix_size_mm = np.array([100,100,100])\n",
    "# voxel size in mm\n",
    "my_experimental_setup.voxel_size_mm = np.array([1,1,1])\n",
    "# sources \n",
    "my_experimental_setup.sdd_mm=\n",
    "my_experimental_setup.sad_mm=100\n",
    "my_experimental_setup.fan_angle_deg=90\n",
    "# compute the geometry\n",
    "my_experimental_setup.Update()\n",
    "print(my_experimental_setup.GetInfo())"
   ]
  },
  {
   "cell_type": "markdown",
   "metadata": {},
   "source": [
    "You may have noticed that in this example, a voxel size of 4 mm has been chosen along each axis. Indeed, in order to keep the forward and back projection within reasonable time in this single-core, non parallelised educational implementation, we will use a rather coarse reconstruction grid."
   ]
  },
  {
   "cell_type": "markdown",
   "metadata": {},
   "source": [
    "### Display the experimental setup\n",
    "\n",
    "As already done in the previous demos, let's look at the geometry using the ```Draw``` method:"
   ]
  },
  {
   "cell_type": "code",
   "execution_count": null,
   "metadata": {},
   "outputs": [],
   "source": [
    "my_experimental_setup.Draw(use_jupyter=0,camera_pos_mm=(0,-800,400))"
   ]
  },
  {
   "cell_type": "markdown",
   "metadata": {},
   "source": [
    "### Load the image used to generate cone beam projection data\n",
    "\n",
    "Let us now load another version of the voxelised 3D phantom. This version is stored in a grid of 100$^3$ voxels (let's assume that each voxel has a side of 1 mm in each direction)."
   ]
  },
  {
   "cell_type": "code",
   "execution_count": null,
   "metadata": {},
   "outputs": [],
   "source": [
    "input_file_name = '../Data/cilinder.npz'\n",
    "input_img = np.load(input_file_name)['matrix']\n",
    "input_img = np.transpose(input_img, (2, 1, 0))"
   ]
  },
  {
   "cell_type": "code",
   "execution_count": null,
   "metadata": {},
   "outputs": [],
   "source": [
    "#input_img = np.load('/home/eleonora/eFLASH_3D_Sim-build/Dose_Map_30mm/spettro_9MeV/doseDistribution.npz')['doseDistr'].astype(np.float64)\n",
    "\n",
    "fig, ax = plt.subplots(1, 3, figsize=(6,12))\n",
    "ax[0].imshow(input_img[50,:,:])\n",
    "ax[1].imshow(input_img[:,50,:])\n",
    "ax[2].imshow(input_img[:,:,50])\n",
    "\n",
    "print(input_img.shape)"
   ]
  },
  {
   "cell_type": "code",
   "execution_count": null,
   "metadata": {},
   "outputs": [],
   "source": [
    "input_img = np.fromfile(\"../Data/SheppLogan3D_100x100x100_16bit_us.raw\",dtype=np.uint16).reshape ((100,100,100))\n",
    "input_img=input_img.astype(voxel_dtype)\n",
    "\n",
    "fig, ax = plt.subplots(1, 3, figsize=(6,12))\n",
    "input_img = np.transpose(input_img, (2, 1, 0))\n",
    "#rotated_img_90 = np.transpose(input_img, (0, 2, 1))[:, :, ::-1\n",
    "ax[0].imshow(input_img[50,:,:])\n",
    "#ax[0].invert_yaxis() \n",
    "ax[1].imshow(input_img[:,50,:])\n",
    "#ax[1].invert_yaxis() \n",
    "ax[2].imshow(input_img[:,:,50])\n",
    "#ax[2].invert_yaxis() \n",
    "print(input_img.shape)"
   ]
  },
  {
   "cell_type": "markdown",
   "metadata": {},
   "source": [
    "### Generate and display the projection data\n",
    "Let us now clarify the meaning of the term *sinogram* in the current geometry. We are actually generating a set of projections of the 3D object, giving rise to a 3D array of line integrals. The shape of the generated array follows the ordering: ```(n_of_radial_bins, n_of gantry_angles, n_of_bins_along_axial_direction)```. That is, the first two dimensions are those used in 2D sinograms as already seen in the previous example. But in cone-beam geometry, we often refer to projection data as *radiographs* of the 3D object, and hence we would like to visualise those data using the ordering ```(n_of_radial_bins, n_of_bins_along_axial_direction, n_of gantry_angles)```. This can be easily done with the ```Draw``` function by just putting ```slice_axis=1``` as the second argument (unlike the previous examples where ```slice_axis=2``` was used)."
   ]
  },
  {
   "cell_type": "code",
   "execution_count": null,
   "metadata": {},
   "outputs": [],
   "source": [
    "s=SinogramGenerator_3D(my_experimental_setup)\n",
    "sino_list=s.GenerateObjectSinogram(input_img,transponse_image=0)"
   ]
  },
  {
   "cell_type": "code",
   "execution_count": null,
   "metadata": {},
   "outputs": [],
   "source": [
    "fig, ax = plt.subplots(1, 3, figsize=(12,12))\n",
    "ax[0].imshow(sino_list[0]._data[:,0,:])\n",
    "ax[1].imshow(sino_list[1]._data[:,0,:])\n",
    "ax[2].imshow(sino_list[1]._data[:,1,:])\n",
    "\n",
    "fig, ax = plt.subplots(1, 3, figsize=(6,12))\n",
    "ax[0].imshow(sino_list[1]._data[:,2,:])\n",
    "ax[1].imshow(sino_list[1]._data[:,3,:])\n",
    "ax[2].imshow(sino_list[1]._data[:,4,:])\n",
    "\n",
    "fig, ax = plt.subplots(1, 3, figsize=(6,12))\n",
    "ax[0].imshow(sino_list[1]._data[:,5,:])\n",
    "ax[1].imshow(sino_list[1]._data[:,6,:])\n",
    "ax[2].imshow(sino_list[1]._data[:,7,:])\n",
    "\n"
   ]
  },
  {
   "cell_type": "code",
   "execution_count": null,
   "metadata": {},
   "outputs": [],
   "source": [
    "projections_t = np.concatenate(np.concatenate(np.transpose(sino_list[0]._data, axes=(2,1,0)), axis=1))\n",
    "projections_l = np.concatenate(np.concatenate(np.transpose(sino_list[1]._data, axes=(2,1,0)), axis=1))\n",
    "\n",
    "projections = np.concatenate((projections_t, projections_l))\n",
    "\n",
    "print('projections_t.shape, projectionsl.shape, projections.shape:, ', projections_t.shape, projections_l.shape, projections.shape)"
   ]
  },
  {
   "cell_type": "code",
   "execution_count": null,
   "metadata": {},
   "outputs": [],
   "source": [
    "algorithm=\"MLEM\"\n",
    "niter=50\n",
    "initial_value=1\n",
    "\n",
    "print(my_experimental_setup.gantry_angles_nb)\n",
    "\n",
    "#Info for saving\n",
    "d1 = my_experimental_setup.sad_mm - my_experimental_setup.image_matrix_size_mm[0] * 0.5\n",
    "\n",
    "output_file_name = OutputFileName('../Reconstruction/', input_file_name, d1, niter, my_experimental_setup.gantry_angles_nb, my_experimental_setup.fan_angle_deg)\n",
    "print(output_file_name)\n",
    "\n",
    "# Apre il file in modalità scrittura\n",
    "with open(output_file_name+'.txt', 'w') as f:\n",
    "    # Reindirizza l'output di print al file\n",
    "    print(my_experimental_setup.GetInfo(), file=f)"
   ]
  },
  {
   "cell_type": "code",
   "execution_count": null,
   "metadata": {},
   "outputs": [],
   "source": [
    "it = eval( algorithm+ \"()\")\n",
    "it.SetExperimentalSetup(my_experimental_setup)\n",
    "it.SetNumberOfIterations(niter)\n",
    "it.SetProjectionData(projections)\n",
    "initial_guess=np.full(it.GetNumberOfVoxels(),initial_value, dtype=voxel_dtype) \n",
    "it.SetImageGuess(initial_guess)\n",
    "it.SetOutputBaseName(output_file_name) # uncomment this line to save images to disk\n",
    "output_img = it.Reconstruct()"
   ]
  },
  {
   "cell_type": "code",
   "execution_count": null,
   "metadata": {},
   "outputs": [],
   "source": [
    "print(output_img.shape)\n",
    "index_x = 50\n",
    "index_y = 50\n",
    "index_z = 50\n",
    "\n",
    "vmin, vmax = 0.,1.\n",
    "fig, ax = plt.subplots(1, 3, figsize=(12,12))\n",
    "im=ax[0].imshow(output_img[index_x,:,:])#, vmin=vmin, vmax=vmax)\n",
    "im=ax[1].imshow(output_img[:,index_y,:] )#, vmin=vmin, vmax=vmax)\n",
    "im=ax[2].imshow(output_img[:,:,index_z])#, vmin=vmin, vmax=vmax)\n",
    "fig.colorbar(im, ax=[ax[0], ax[1], ax[2]], orientation = 'horizontal')\n",
    "\n",
    "fig, ax = plt.subplots(1, 3, figsize=(12,12))\n",
    "im=ax[0].imshow(input_img[index_x,:,:])#, vmin=vmin, vmax=vmax)\n",
    "im=ax[1].imshow(input_img[:,index_y,:] )#, vmin=vmin, vmax=vmax)\n",
    "im=ax[2].imshow(input_img[:,:,index_z])#, vmin=vmin, vmax=vmax)\n",
    "fig.colorbar(im, ax=[ax[0], ax[1], ax[2]], orientation = 'horizontal')\n",
    "\n",
    "output_img = output_img/output_img.max()\n",
    "input_img = input_img/input_img.max()\n",
    "\n",
    "vmin, vmax= -0.5, 0.5\n",
    "fig, ax = plt.subplots(1, 3, figsize=(12,12))\n",
    "ax[0].imshow(output_img[index_x,:,:]-input_img[index_x, :, : ], vmin=vmin, vmax=vmax, cmap='RdBu')\n",
    "ax[1].imshow(output_img[:,index_y,:] - input_img[:, index_y,:], vmin=vmin, vmax=vmax, cmap='RdBu')\n",
    "im = ax[2].imshow(output_img[:,:,index_z] - input_img[:,:,index_z], vmin=vmin, vmax=vmax, cmap='RdBu')\n",
    "#fig.subplots_adjust(right=0.8)\n",
    "#cbar_ax = fig.add_axes([0.85, 0.15, 0.05, 0.7])\n",
    "fig.colorbar(im, ax=[ax[0], ax[1], ax[2]], orientation = 'horizontal')"
   ]
  }
 ],
 "metadata": {
  "kernelspec": {
   "display_name": "Python 3 (ipykernel)",
   "language": "python",
   "name": "python3"
  },
  "language_info": {
   "codemirror_mode": {
    "name": "ipython",
    "version": 3
   },
   "file_extension": ".py",
   "mimetype": "text/x-python",
   "name": "python",
   "nbconvert_exporter": "python",
   "pygments_lexer": "ipython3",
   "version": "3.10.12"
  }
 },
 "nbformat": 4,
 "nbformat_minor": 4
}

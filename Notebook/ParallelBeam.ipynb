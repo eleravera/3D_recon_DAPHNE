{
 "cells": [
  {
   "cell_type": "markdown",
   "metadata": {},
   "source": [
    "# Parallel beam"
   ]
  },
  {
   "cell_type": "markdown",
   "metadata": {},
   "source": [
    "-----------------------------------------------------------------------------------------------------------------------\n",
    "\n",
    "<u>*The material provided in this notebook can be freely used and modified for educational purposes only. Please cite any content of the notebook as follows:*</u>\n",
    "\n",
    "- *Panetta D, Camarlinghi N. 3D Image Reconstruction for CT and PET : A Practical Guide with Python. CRC Press; 2020. Available from: https://www.taylorfrancis.com/books/9780429270239*\n",
    "\n",
    "*For questions, notifications of bugs, or even just for feedback, please contact the authors directly (daniele.panetta@ifc.cnr.it; niccolo.camarlinghi@gmail.com)*\n",
    "\n",
    "-----------------------------------------------------------------------------------------------------------------------"
   ]
  },
  {
   "cell_type": "code",
   "execution_count": 1,
   "metadata": {},
   "outputs": [
    {
     "ename": "ModuleNotFoundError",
     "evalue": "No module named 'imageio'",
     "output_type": "error",
     "traceback": [
      "\u001b[0;31m---------------------------------------------------------------------------\u001b[0m",
      "\u001b[0;31mModuleNotFoundError\u001b[0m                       Traceback (most recent call last)",
      "Cell \u001b[0;32mIn [1], line 5\u001b[0m\n\u001b[1;32m      3\u001b[0m sys\u001b[38;5;241m.\u001b[39mpath\u001b[38;5;241m.\u001b[39mappend(\u001b[38;5;124m\"\u001b[39m\u001b[38;5;124m../\u001b[39m\u001b[38;5;124m\"\u001b[39m) \u001b[38;5;66;03m# this to be able to include all the object contained in the modules\u001b[39;00m\n\u001b[1;32m      4\u001b[0m \u001b[38;5;28;01mfrom\u001b[39;00m \u001b[38;5;21;01mscipy\u001b[39;00m\u001b[38;5;21;01m.\u001b[39;00m\u001b[38;5;21;01mndimage\u001b[39;00m \u001b[38;5;28;01mimport\u001b[39;00m gaussian_filter\n\u001b[0;32m----> 5\u001b[0m \u001b[38;5;28;01mfrom\u001b[39;00m \u001b[38;5;21;01mMisc\u001b[39;00m\u001b[38;5;21;01m.\u001b[39;00m\u001b[38;5;21;01mUtils\u001b[39;00m \u001b[38;5;28;01mimport\u001b[39;00m Unpickle,ReadImage\n\u001b[1;32m      6\u001b[0m \u001b[38;5;28;01mfrom\u001b[39;00m \u001b[38;5;21;01mMisc\u001b[39;00m\u001b[38;5;21;01m.\u001b[39;00m\u001b[38;5;21;01mPreview\u001b[39;00m \u001b[38;5;28;01mimport\u001b[39;00m Visualize3dImage\n\u001b[1;32m      7\u001b[0m \u001b[38;5;28;01mimport\u001b[39;00m \u001b[38;5;21;01mmatplotlib\u001b[39;00m\u001b[38;5;21;01m.\u001b[39;00m\u001b[38;5;21;01mpyplot\u001b[39;00m \u001b[38;5;28;01mas\u001b[39;00m \u001b[38;5;21;01mplt\u001b[39;00m\n",
      "File \u001b[0;32m~/3D_recon_DAPHNE/Notebook/../Misc/__init__.py:2\u001b[0m\n\u001b[1;32m      1\u001b[0m \u001b[38;5;28;01mfrom\u001b[39;00m \u001b[38;5;21;01m.\u001b[39;00m \u001b[38;5;28;01mimport\u001b[39;00m DataTypes\n\u001b[0;32m----> 2\u001b[0m \u001b[38;5;28;01mfrom\u001b[39;00m \u001b[38;5;21;01m.\u001b[39;00m \u001b[38;5;28;01mimport\u001b[39;00m Utils\n\u001b[1;32m      3\u001b[0m \u001b[38;5;28;01mfrom\u001b[39;00m \u001b[38;5;21;01m.\u001b[39;00m \u001b[38;5;28;01mimport\u001b[39;00m VisualizationUtils\n\u001b[1;32m      4\u001b[0m \u001b[38;5;28;01mfrom\u001b[39;00m \u001b[38;5;21;01m.\u001b[39;00m \u001b[38;5;28;01mimport\u001b[39;00m Preview\n",
      "File \u001b[0;32m~/3D_recon_DAPHNE/Notebook/../Misc/Utils.py:2\u001b[0m\n\u001b[1;32m      1\u001b[0m \u001b[38;5;28;01mimport\u001b[39;00m \u001b[38;5;21;01mnumpy\u001b[39;00m \u001b[38;5;28;01mas\u001b[39;00m \u001b[38;5;21;01mnp\u001b[39;00m\n\u001b[0;32m----> 2\u001b[0m \u001b[38;5;28;01mimport\u001b[39;00m \u001b[38;5;21;01mimageio\u001b[39;00m\n\u001b[1;32m      3\u001b[0m \u001b[38;5;28;01mimport\u001b[39;00m \u001b[38;5;21;01mpickle\u001b[39;00m\n\u001b[1;32m      4\u001b[0m \u001b[38;5;28;01mfrom\u001b[39;00m \u001b[38;5;21;01mMisc\u001b[39;00m\u001b[38;5;21;01m.\u001b[39;00m\u001b[38;5;21;01mDataTypes\u001b[39;00m \u001b[38;5;28;01mimport\u001b[39;00m point_dtype\n",
      "\u001b[0;31mModuleNotFoundError\u001b[0m: No module named 'imageio'"
     ]
    }
   ],
   "source": [
    "import sys\n",
    "import numpy as np\n",
    "sys.path.append(\"../\") # this to be able to include all the object contained in the modules\n",
    "from scipy.ndimage import gaussian_filter\n",
    "from Misc.Utils import Unpickle,ReadImage\n",
    "from Misc.Preview import Visualize3dImage\n",
    "import matplotlib.pyplot as plt\n",
    "# set the default size of all the plots\n",
    "# if images are too big or too small try to play whit these numbers\n",
    "plt.rcParams['figure.figsize'] = [10, 10] \n",
    "from Algorithms.MLEM import MLEM\n",
    "from Algorithms.SinogramGenerator_3D import SinogramGenerator_3D\n",
    "from Geometry.ExperimentalSetupCT_3D import ExperimentalSetupCT_3D, Mode, DetectorShape\n",
    "from Misc.DataTypes import voxel_dtype\n"
   ]
  },
  {
   "cell_type": "markdown",
   "metadata": {},
   "source": [
    "### Create a CT experimental setup"
   ]
  },
  {
   "cell_type": "markdown",
   "metadata": {},
   "source": [
    "Now, we are going to create an experimental setup along with its geometry, by creating an instance of the ```ExperimentalSetupCT``` class. In this example, we are about to reconstruct 10 slices of the phantom, each with 100x100 pixels in the $x,y$ plane. The number of voxels in each direction is a derived parameter, calculated on top of ```image_matrix_size_mm``` (i.e., the numpy vector containing the lengths in mm of each side of the reconstruction volume) and ```voxel_size_mm``` (i.e, the numpy vector containing the lengths in mm of each side of the voxel)."
   ]
  },
  {
   "cell_type": "code",
   "execution_count": null,
   "metadata": {},
   "outputs": [],
   "source": [
    "# create CT experimental setup\n",
    "my_experimental_setup = ExperimentalSetupCT_3D()\n",
    "my_experimental_setup.mode = Mode.PARALLELBEAM\n",
    "my_experimental_setup.detector_shape=DetectorShape.PLANAR\n",
    "my_experimental_setup._detector_number = 3\n",
    "# number of sensitive elements \n",
    "my_experimental_setup.pixels_per_slice_nb=100\n",
    "my_experimental_setup.detector_slice_nb=100\n",
    "my_experimental_setup.slice_pitch_mm=1\n",
    "# number of rotation of the gantry\n",
    "my_experimental_setup.gantry_angles_nb = 1\n",
    "# range of the rotation\n",
    "my_experimental_setup.angular_range_deg = 360\n",
    "# fov size in mm \n",
    "my_experimental_setup.image_matrix_size_mm = np.array([100,100,100])\n",
    "# voxel size in mm\n",
    "my_experimental_setup.voxel_size_mm = np.array([1,1,1])\n",
    "\n",
    "# compute the geometry\n",
    "my_experimental_setup.Update()\n",
    "print(my_experimental_setup.GetInfo())"
   ]
  },
  {
   "cell_type": "markdown",
   "metadata": {},
   "source": [
    "### Display the experimental setup"
   ]
  },
  {
   "cell_type": "markdown",
   "metadata": {},
   "source": [
    "The ```Draw()``` method of the ```ExperimentalSetupCT``` class will allow us to display the geometry (source and detector position(s), as well as the reconstruction matrix). When using ```use_jupyter=1```, only a static figure will be displayed in the notebook itself. Otherwise, the user can obtain an interactive display of the same geometry by putting ```use_jupyter=0``` as the first argument. The second argument is the position of the camera in the static (```use_jupyter=1```) mode."
   ]
  },
  {
   "cell_type": "code",
   "execution_count": null,
   "metadata": {},
   "outputs": [],
   "source": [
    "my_experimental_setup.Draw(use_jupyter=0,camera_pos_mm=(0,-400,100))"
   ]
  },
  {
   "cell_type": "markdown",
   "metadata": {},
   "source": [
    "### Load the image used to generate the sinogram"
   ]
  },
  {
   "cell_type": "markdown",
   "metadata": {},
   "source": [
    "We are now ready to lead the example dataset provided, a voxelised 3D version of the Shepp-Logan head phantom (defined in the great PhD thesis of Enrik Turbell at Linkopings University - https://people.csail.mit.edu/bkph/courses/papers/Exact_Conebeam/Turbell_Thesis_FBP_2001.pdf). Upon loading the dataset, made up by a (rather coarse) grid of 100$^3$ voxels, we will select just 10 consecutive slices around the plane containing the well known triplet of small low-contrast details."
   ]
  },
  {
   "cell_type": "code",
   "execution_count": null,
   "metadata": {
    "scrolled": true
   },
   "outputs": [],
   "source": [
    "input_img = np.load('../Data/cilinder.npz')['matrix'].astype(np.float64)\n",
    "print('Image shape: ', input_img.shape)\n",
    "\n",
    "n = (3,3,3)\n",
    "\n",
    "#input_img = gaussian_filter(input_img, sigma = n, order = 0)\n",
    "\n",
    "fig, ax = plt.subplots(2, 3, figsize=(8,8))\n",
    "ax[0,0].imshow(input_img[50,:,:], vmin = 0, vmax=1)\n",
    "ax[0,1].imshow(input_img[:,50,:], vmin = 0, vmax=1)\n",
    "im = ax[0,2].imshow(input_img[:,:,50], vmin = 0, vmax=1)\n",
    "fig.colorbar(im, ax=[ax[0,0], ax[0,1], ax[0,2]], orientation = 'horizontal')\n",
    "ax[1,0].plot(input_img[50,50,:])\n",
    "ax[1,1].plot(input_img[:,50,50])\n",
    "im = ax[1,2].plot(input_img[50,:,50])\n"
   ]
  },
  {
   "cell_type": "code",
   "execution_count": null,
   "metadata": {},
   "outputs": [],
   "source": [
    "#Carica le proiezioni"
   ]
  },
  {
   "cell_type": "markdown",
   "metadata": {},
   "source": [
    "### Generate and display the sinogram"
   ]
  },
  {
   "cell_type": "markdown",
   "metadata": {},
   "source": [
    "The phantom data stored in the numpy 3D array ```img``` is now ready to be forward projected using the Siddon method (see Chapter 5 of the book). Fist of all, we must create an instance of the ```SinogramGenerator``` class, which takes the experimental setup as the only argument. Then, a sinogram object ```sino``` is created with the method ```GenerateObjectSinogram()``` of the ```SinogramGenerator``` class, taking the voxelised array as input. The ```transpose_image=1``` argument is required internally, in order to keep coherence between the array axes in the implementation of the Siddon algorithm. \n",
    "\n",
    "In most PC, the forward projection step in this example shuold last no longer than 1 minute or so. It will increase if the projection grid is made finer, or more slices are put in the computation."
   ]
  },
  {
   "cell_type": "code",
   "execution_count": null,
   "metadata": {},
   "outputs": [],
   "source": [
    "s=SinogramGenerator_3D(my_experimental_setup)\n",
    "sino_list=s.GenerateObjectSinogram(input_img,transponse_image=1)\n",
    "\n",
    "for s in sino_list: \n",
    "    print('sino_list[s].shape: ' , s._data.shape)"
   ]
  },
  {
   "cell_type": "markdown",
   "metadata": {},
   "source": [
    "Let's now visualize the resulting sinogram, slice by slice, again by calling the ```Visualize3dImage``` method. As it can be seen, the angular coordinate is displayed in the horizonal axis and the radial coordinate in the vertical axis. The number of bins in both directions is defined in the experimental setup."
   ]
  },
  {
   "cell_type": "code",
   "execution_count": null,
   "metadata": {},
   "outputs": [],
   "source": [
    "fig, ax = plt.subplots(1, 3, figsize=(12, 6))  \n",
    "plt.subplots_adjust(wspace=0.4)  \n",
    "\n",
    "im = ax[0].imshow(np.transpose(sino_list[0]._data[:,0,:]), extent=[-50, 50, -50, 50])\n",
    "ax[0].set_xticks(np.linspace(-50, 50, 5))  \n",
    "ax[0].set_yticks(np.linspace(-50, 50, 5))  \n",
    "\n",
    "im = ax[1].imshow(np.transpose(sino_list[2]._data[:,0,:]), extent=[-50, 50, -50, 50])\n",
    "ax[1].set_xticks(np.linspace(-50, 50, 5))  \n",
    "ax[1].set_yticks(np.linspace(-50, 50, 5)) \n",
    "\n",
    "im = ax[2].imshow(sino_list[1]._data[:,0,:], extent=[-50, 50, -50, 50])\n",
    "ax[2].set_xticks(np.linspace(-50, 50, 5))  \n",
    "ax[2].set_yticks(np.linspace(-50, 50, 5)) \n",
    "\n",
    "cbar = fig.colorbar(im, ax=ax, orientation='horizontal', fraction=0.3, pad=0.15)\n",
    "cbar.set_label('Intensity')  \n",
    "plt.show()"
   ]
  },
  {
   "cell_type": "code",
   "execution_count": null,
   "metadata": {},
   "outputs": [],
   "source": [
    "projections1 = np.concatenate(np.concatenate(np.transpose(sino_list[0]._data, axes=(2,1,0)), axis=1))\n",
    "projections2 = np.concatenate(np.concatenate(np.transpose(sino_list[1]._data, axes=(2,1,0)), axis=1))\n",
    "projections3 = np.concatenate(np.concatenate(np.transpose(sino_list[2]._data, axes=(2,1,0)), axis=1))\n",
    "\n",
    "projections = np.concatenate((projections1, projections2))\n",
    "\n",
    "print('projections1.shape, projections2.shape, projections3.shape, projections.shape:, ', projections1.shape, projections2.shape, projections3.shape, projections.shape)\n",
    "projections = np.concatenate((projections, projections3))"
   ]
  },
  {
   "cell_type": "code",
   "execution_count": null,
   "metadata": {},
   "outputs": [],
   "source": [
    "algorithm=\"MLEM\"\n",
    "# number of iterations \n",
    "niter=10\n",
    "# when use using MLEM or OSEM remember to set this value to !=0 \n",
    "initial_value=1"
   ]
  },
  {
   "cell_type": "code",
   "execution_count": null,
   "metadata": {},
   "outputs": [],
   "source": [
    "it = eval( algorithm+ \"()\")\n",
    "it.SetExperimentalSetup(my_experimental_setup)\n",
    "it.SetNumberOfIterations(niter)\n",
    "#it.SetNumberOfSubsets(nsubsets)\n",
    "it.SetProjectionData(projections)\n",
    "# start with a initial_guess filled image\n",
    "initial_guess=np.full(it.GetNumberOfVoxels(),initial_value, dtype=voxel_dtype) \n",
    "it.SetImageGuess(initial_guess)\n",
    "# uncomment this line to save images to disk\n",
    "#it.SetOutputBaseName(basename)\n",
    "output_img = it.Reconstruct()"
   ]
  },
  {
   "cell_type": "code",
   "execution_count": null,
   "metadata": {},
   "outputs": [],
   "source": [
    "np.savez('../Data/cilinder_reconstruction_parallelbeam.npz', matrix=output_img)"
   ]
  },
  {
   "cell_type": "code",
   "execution_count": null,
   "metadata": {},
   "outputs": [],
   "source": [
    "print(output_img.shape)\n",
    "index_x = 50\n",
    "index_y = 50\n",
    "index_z = 50\n",
    "\n",
    "vmin, vmax = 0.,1.\n",
    "fig, ax = plt.subplots(1, 3, figsize=(12,8))\n",
    "im=ax[0].imshow(output_img[index_x,:,:], vmin=vmin, vmax=vmax)\n",
    "im=ax[1].imshow(output_img[:,index_y,:], vmin=vmin, vmax=vmax)\n",
    "im=ax[2].imshow(output_img[:,:,index_z], vmin=vmin, vmax=vmax)\n",
    "fig.colorbar(im, ax=[ax[0], ax[1], ax[2]], orientation = 'horizontal')\n",
    "\n",
    "vmin, vmax= -0.01, 0.01\n",
    "fig, ax = plt.subplots(1, 3, figsize=(12,12))\n",
    "ax[0].imshow(output_img[index_x,:,:]-input_img[index_x, :, : ], vmin=vmin, vmax=vmax, cmap='RdBu')\n",
    "ax[1].imshow(output_img[:,index_y,:] - input_img[:, index_y,:], vmin=vmin, vmax=vmax, cmap='RdBu')\n",
    "im = ax[2].imshow(output_img[:,:,index_z] - input_img[:,:,index_z], vmin=vmin, vmax=vmax, cmap='RdBu')\n",
    "#fig.subplots_adjust(right=0.8)\n",
    "#cbar_ax = fig.add_axes([0.85, 0.15, 0.05, 0.7])\n",
    "fig.colorbar(im, ax=[ax[0], ax[1], ax[2]], orientation = 'horizontal')"
   ]
  },
  {
   "cell_type": "code",
   "execution_count": null,
   "metadata": {},
   "outputs": [],
   "source": [
    "output_img"
   ]
  },
  {
   "cell_type": "code",
   "execution_count": null,
   "metadata": {},
   "outputs": [],
   "source": []
  },
  {
   "cell_type": "code",
   "execution_count": null,
   "metadata": {},
   "outputs": [],
   "source": []
  },
  {
   "cell_type": "code",
   "execution_count": null,
   "metadata": {},
   "outputs": [],
   "source": []
  },
  {
   "cell_type": "markdown",
   "metadata": {},
   "source": [
    "### Run the FBP algorithm and display the reconstructed image"
   ]
  },
  {
   "cell_type": "markdown",
   "metadata": {},
   "source": [
    "Let us now reconstruct the sinograms. The theory behind FBP reconstruction is described in Chapter 3 of the book. First, we create a ```FBP``` object called ```f```, and we assign the previously generated sinogram object to its member ```f.sinogram```. The type of interpolation to be used in the backprojection step is stored in ```f.interpolator``` (see comments in the code)."
   ]
  },
  {
   "cell_type": "code",
   "execution_count": null,
   "metadata": {},
   "outputs": [],
   "source": [
    "f=FBP()\n",
    "f.sinogram=sino\n",
    "# this is the interpolation for the backprojection \n",
    "# available options are : \"linear\",\"nearest\",\"zero\",\"slinear\",\"quadratic\",\"cubic\"\n",
    "# see for https://docs.scipy.org/doc/scipy/reference/generated/szerocipy.interpolate.interp1d.html parameter: kind\n",
    "# for an explanation of the interpolation parameters  \n",
    "f.interpolator='cubic'\n"
   ]
  },
  {
   "cell_type": "markdown",
   "metadata": {},
   "source": [
    "Ready? The next line will make the FBP reconstruction to start, finally! Some text message will appear to let the user know the progress status of the reconstruction during the computation, even though this example shuold run quite fast in most PC's."
   ]
  },
  {
   "cell_type": "code",
   "execution_count": null,
   "metadata": {},
   "outputs": [],
   "source": [
    "f.Reconstruct()\n"
   ]
  },
  {
   "cell_type": "markdown",
   "metadata": {},
   "source": [
    "If you can read ```Reconstruction done``` in the log text above, then you're done. All the slices have been reconstruction, so let's display them now. The result is stored in ```f._image```, so let's put this object as argument in the ```Visualize3dImage()``` method."
   ]
  },
  {
   "cell_type": "code",
   "execution_count": null,
   "metadata": {},
   "outputs": [],
   "source": [
    "# We are rotating 180° the image before displaying it, this is required due to \n",
    "# the internal implementation of the backprojection function in order to make it\n",
    "# perfectly comparable with the original one.\n",
    "f._image = np.rot90(f._image,2)\n",
    "Visualize3dImage(f._image)"
   ]
  },
  {
   "cell_type": "markdown",
   "metadata": {},
   "source": [
    "In this FBP demo in parallel beam geometry, we used the DAPHNE framework as a high-level, easy to use API to run all the tasks relevant for the reconstruction. Some other notebook in this folder wil avoid DAPHNE, so the user will see all the hard computation steps at \"low\"-level. \n",
    "We can now explore a bit more some relevant building block. For instance, let's see the shape of the ramp filter in the spatial and frequency domain.\n",
    "As explained in Chapter 3 of the book, the frequency response of the ramp filter, $H(\\nu)$ is intrinsically a 1D function of the spatial frequency. Indeed, to make things more \"pythonic\", in our code within DAPHNE we are storing repeated copies of the 1D filter function in a multidimensional array called ```_Hm``` (where 'm' stands for 'matrix'). With this trick, the filtration in the frequency domain of the sinogram is just performed by multiplying (internally, in the ```f.Reconstruct()``` method) the FFT of the sinogram of each slice with the ```_Hm``` function."
   ]
  },
  {
   "cell_type": "code",
   "execution_count": null,
   "metadata": {},
   "outputs": [],
   "source": [
    "plt.figure()\n",
    "plt.plot(f._Hm[:,0])\n",
    "plt.title(\"Ramp filter freq. response\")\n"
   ]
  },
  {
   "cell_type": "markdown",
   "metadata": {},
   "source": [
    "In the Figure above, the negative frequencies appear in the second half of the plot (i.e., for $N_{bin}/2 \\leq k < N_{bin}/2 - 1$). Let's now display also the impulse response of the filter, $h(x')$."
   ]
  },
  {
   "cell_type": "code",
   "execution_count": null,
   "metadata": {},
   "outputs": [],
   "source": [
    "plt.figure()\n",
    "plt.title(\"Ramp filter impulse response\")\n",
    "plt.plot(f._h)"
   ]
  },
  {
   "cell_type": "markdown",
   "metadata": {},
   "source": [
    "As a last step in this exercise, let's visualize the filtered sinogram stored in ```f._filtered_sinogram```:"
   ]
  },
  {
   "cell_type": "code",
   "execution_count": null,
   "metadata": {},
   "outputs": [],
   "source": [
    "Visualize3dImage(f._filterderd_sinogram,2)"
   ]
  },
  {
   "cell_type": "code",
   "execution_count": null,
   "metadata": {},
   "outputs": [],
   "source": []
  }
 ],
 "metadata": {
  "kernelspec": {
   "display_name": "Python 3 (ipykernel)",
   "language": "python",
   "name": "python3"
  },
  "language_info": {
   "codemirror_mode": {
    "name": "ipython",
    "version": 3
   },
   "file_extension": ".py",
   "mimetype": "text/x-python",
   "name": "python",
   "nbconvert_exporter": "python",
   "pygments_lexer": "ipython3",
   "version": "3.10.12"
  }
 },
 "nbformat": 4,
 "nbformat_minor": 4
}
